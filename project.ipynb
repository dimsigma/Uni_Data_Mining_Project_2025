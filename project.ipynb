{
 "cells": [
  {
   "cell_type": "code",
   "execution_count": null,
   "id": "ba01f9f7",
   "metadata": {},
   "outputs": [],
   "source": [
    "### Import necessary libraries\n",
    "import pandas as pd\n",
    "import matplotlib.pyplot as plt\n",
    "import seaborn as sns"
   ]
  },
  {
   "cell_type": "code",
   "execution_count": null,
   "id": "8e86116c",
   "metadata": {},
   "outputs": [],
   "source": [
    "### Read CSV file & Future Formatting\n",
    "df = pd.read_csv(\"data.csv\")\n",
    "pd.set_option(\"display.max_columns\", None)\n",
    "pd.options.display.float_format = \"{:.2f}\".format"
   ]
  },
  {
   "cell_type": "code",
   "execution_count": null,
   "id": "110b8a4f",
   "metadata": {},
   "outputs": [],
   "source": [
    "### Data introduction\n",
    "# Identify unnecessary and target columns\n",
    "DROP_LABELS = [\"Flow ID\", \"Src IP\", \"Src Port\", \"Dst IP\", \"Dst Port\", \"Timestamp\"]\n",
    "TARGET_LABELS = [\"Label\", \"Traffic Type\", \"Traffic Subtype\"]\n",
    "\n",
    "# Drop unnecessary columns and present data\n",
    "def present(df: pd.DataFrame) -> pd.DataFrame:\n",
    "    print(\"Dataset before removing unecessary data and duplicates has\", df.shape[0], \"rows and\", df.shape[1], \"columns\")\n",
    "    print(\"Removing unnecessary data and duplicates ...\")    \n",
    "    df = df.drop(columns=DROP_LABELS)\n",
    "    df = df.drop_duplicates()\n",
    "    print(\"Dataset after removing unecessary data and duplicates has\", df.shape[0], \"rows and\", df.shape[1], \"columns\")\n",
    "\n",
    "    display(df.describe())\n",
    "    display(df.groupby(TARGET_LABELS).size().reset_index(name=\"Counts\"))\n",
    "\n",
    "    return df\n",
    "\n",
    "data = present(df)"
   ]
  },
  {
   "cell_type": "code",
   "execution_count": null,
   "id": "e60b00a9",
   "metadata": {},
   "outputs": [],
   "source": [
    "### Data Visualization\n",
    "HIST_LABELS = [\n",
    "    \"Flow Duration\", \"Flow Bytes/s\", \"Fwd Packet Length Mean\", \"Flow IAT Mean\", \"Packet Length Variance\",\n",
    "    \"Average Packet Size\", \"Active Mean\", \"Idle Mean\"\n",
    "    ]\n",
    "BAR_LABELS = [\n",
    "    \"Fwd PSH Flags\", \"Protocol\"\n",
    "]\n",
    "\n",
    "def histogram(df: pd.DataFrame) -> None:\n",
    "    for col in HIST_LABELS:\n",
    "        plt.figure(figsize=(8, 4))\n",
    "        sns.histplot(data=df[col], bins=20, element=\"step\", kde=True)\n",
    "        plt.title(f\"Histogram: {col}\")\n",
    "        plt.xlabel(col)\n",
    "        plt.ylabel(\"Frequency\")\n",
    "        plt.tight_layout()\n",
    "        plt.show()\n",
    "\n",
    "def boxplotting(df: pd.DataFrame) -> None:\n",
    "    for col in BAR_LABELS:\n",
    "        plt.figure(figsize=(8, 4))\n",
    "        sns.boxplot(x=df[col])\n",
    "        plt.title(f\"Boxplot: {col}\")\n",
    "        plt.xlabel(col)\n",
    "        plt.tight_layout()\n",
    "        plt.show()"
   ]
  }
 ],
 "metadata": {
  "kernelspec": {
   "display_name": "Python 3",
   "language": "python",
   "name": "python3"
  },
  "language_info": {
   "codemirror_mode": {
    "name": "ipython",
    "version": 3
   },
   "file_extension": ".py",
   "mimetype": "text/x-python",
   "name": "python",
   "nbconvert_exporter": "python",
   "pygments_lexer": "ipython3",
   "version": "3.13.2"
  }
 },
 "nbformat": 4,
 "nbformat_minor": 5
}
